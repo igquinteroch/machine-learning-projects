{
 "cells": [
  {
   "cell_type": "markdown",
   "id": "47d502c5",
   "metadata": {},
   "source": [
    "# Predicting heart disease using machine learning"
   ]
  },
  {
   "cell_type": "markdown",
   "id": "37099b37",
   "metadata": {},
   "source": [
    "**Objective:** To build a machine learning model capable of predicting whether or not someone has heart disease based on their medical attributes.\n",
    "\n",
    "\n",
    "**Approach:**\n",
    "\n",
    "1. Problem definition\n",
    "2. Data\n",
    "3. Evaluation\n",
    "4. Features\n",
    "5. Modelling\n",
    "6. Experimentation"
   ]
  },
  {
   "cell_type": "markdown",
   "id": "c17dd551",
   "metadata": {},
   "source": [
    "## 1. Problem definition\n",
    "\n",
    "> Given clinical parameters about a patient, can we predict whether or not they have heart disease?"
   ]
  },
  {
   "cell_type": "markdown",
   "id": "62ee5c9e",
   "metadata": {},
   "source": [
    "## 2. Data\n",
    "\n",
    "The original Heart Disease Dataset comes from the UCI Machine Learning Repository:\n",
    "https://archive.ics.uci.edu/dataset/45/heart+disease\n",
    "\n",
    "Another Heart Disease Classification Dataset version from Kaggle:\n",
    "https://www.kaggle.com/datasets/sumaiyatasmeem/heart-disease-classification-dataset"
   ]
  },
  {
   "cell_type": "markdown",
   "id": "521a0388",
   "metadata": {},
   "source": [
    "## 3. Evaluation\n",
    "\n",
    "> Reach 95% of accuracy at predicting whether or not a patient has heart disease."
   ]
  },
  {
   "cell_type": "markdown",
   "id": "96b450ba",
   "metadata": {},
   "source": [
    "## 4. Features\n",
    "\n",
    "**Data Dictionary**\n",
    "\n",
    "* **age:** Displays the age of the individual.\n",
    "\n",
    "\n",
    "* **sex:**\n",
    "    * 1 = male\n",
    "    * 0 = female\n",
    "\n",
    "\n",
    "* **cp** - Chest-pain type: displays the type of chest-pain experienced by the individual\n",
    "    * 0 = typical angina\n",
    "    * 1 = atypical angina\n",
    "    * 2 = non — anginal pain\n",
    "    * 3 = asymptotic\n",
    "\n",
    "\n",
    "* **trestbps** - Resting Blood Pressure (in mm Hg on admission to the hospital) anything above 130-140 is typically cause for concern.\n",
    "\n",
    "\n",
    "* **chol** - Serum cholestoral in mg/dl.\n",
    "    * Serum = LDL + HDL + .2 * triglycerides\n",
    "    * Above 200 is cause for concern\n",
    "\n",
    "\n",
    "* **fbs** - Fasting Blood Sugar: compares the fasting blood sugar value of an individual with 120mg/dl.\n",
    "    * 1 (true)\n",
    "    * 0 (false)\n",
    "    * '>126' mg/dL signals diabetes\n",
    "\n",
    "\n",
    "* **restecg** - Resting electrocardiographic results.\n",
    "    * 0 = normal \n",
    "    * 1 = having ST-T wave abnormality\n",
    "    * 2 = left ventricular hyperthrophy\n",
    "\n",
    "\n",
    "* **thalach** - Maximum heart rate achieved.\n",
    "\n",
    "\n",
    "* **exang** - Exercise induced angina.\n",
    "    * 1 = yes\n",
    "    * 0 = no\n",
    "\n",
    "\n",
    "* **oldpeak** - ST depression induced by exercise relative to rest looks at stress of heart during excercise unhealthy heart will stress more.\n",
    "\n",
    "\n",
    "* **slope** - The slope of the peak exercise ST segment\n",
    "    * 0 = upsloping: better heart rate with excercise (uncommon)\n",
    "    * 1 = flat: minimal change (typical healthy heart)\n",
    "    * 2 = downsloping: signs of unhealthy heart\n",
    "\n",
    "\n",
    "* **ca** - Number of major vessels (0–3) colored by flourosopy.\n",
    "    * colored vessel means the doctor can see the blood passing through\n",
    "    * the more blood movement the better (no clots)\n",
    "\n",
    "\n",
    "* **thal**: Displays the thalassemia\n",
    "    * 1,3 = normal\n",
    "    * 6 = fixed defect\n",
    "    * 7 = reversible defect: no proper blood movement when excercising\n",
    "\n",
    "\n",
    "* **target**: Displays whether the individual is suffering from heart disease or not.\n",
    "    * 1 = yes\n",
    "    * 0 = no"
   ]
  },
  {
   "cell_type": "code",
   "execution_count": null,
   "id": "687ea010",
   "metadata": {},
   "outputs": [],
   "source": []
  },
  {
   "cell_type": "code",
   "execution_count": null,
   "id": "6a34fbfc",
   "metadata": {},
   "outputs": [],
   "source": []
  },
  {
   "cell_type": "code",
   "execution_count": null,
   "id": "f7020cb7",
   "metadata": {},
   "outputs": [],
   "source": []
  },
  {
   "cell_type": "code",
   "execution_count": null,
   "id": "b88311a7",
   "metadata": {},
   "outputs": [],
   "source": []
  }
 ],
 "metadata": {
  "kernelspec": {
   "display_name": "Python 3 (ipykernel)",
   "language": "python",
   "name": "python3"
  },
  "language_info": {
   "codemirror_mode": {
    "name": "ipython",
    "version": 3
   },
   "file_extension": ".py",
   "mimetype": "text/x-python",
   "name": "python",
   "nbconvert_exporter": "python",
   "pygments_lexer": "ipython3",
   "version": "3.12.2"
  }
 },
 "nbformat": 4,
 "nbformat_minor": 5
}
