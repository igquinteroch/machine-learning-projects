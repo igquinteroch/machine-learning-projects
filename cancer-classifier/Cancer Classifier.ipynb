{
 "cells": [
  {
   "cell_type": "markdown",
   "id": "d5d71255",
   "metadata": {},
   "source": [
    "**Objective:** Make a trained K-Nearest Neighbor classifier to predict whether a patient has breast cancer."
   ]
  },
  {
   "cell_type": "code",
   "execution_count": 1,
   "id": "b88b7d64",
   "metadata": {},
   "outputs": [],
   "source": [
    "from sklearn.datasets import load_breast_cancer\n",
    "from sklearn.model_selection import train_test_split\n",
    "from sklearn.neighbors import KNeighborsClassifier\n",
    "import matplotlib.pyplot as plt"
   ]
  },
  {
   "cell_type": "code",
   "execution_count": 2,
   "id": "7e8a90f3",
   "metadata": {},
   "outputs": [],
   "source": [
    "# Import the breast cancer dataset\n",
    "breast_cancer_data = load_breast_cancer()"
   ]
  },
  {
   "cell_type": "code",
   "execution_count": 3,
   "id": "5556804a",
   "metadata": {},
   "outputs": [
    {
     "name": "stdout",
     "output_type": "stream",
     "text": [
      "[1.799e+01 1.038e+01 1.228e+02 1.001e+03 1.184e-01 2.776e-01 3.001e-01\n",
      " 1.471e-01 2.419e-01 7.871e-02 1.095e+00 9.053e-01 8.589e+00 1.534e+02\n",
      " 6.399e-03 4.904e-02 5.373e-02 1.587e-02 3.003e-02 6.193e-03 2.538e+01\n",
      " 1.733e+01 1.846e+02 2.019e+03 1.622e-01 6.656e-01 7.119e-01 2.654e-01\n",
      " 4.601e-01 1.189e-01]\n",
      "['mean radius' 'mean texture' 'mean perimeter' 'mean area'\n",
      " 'mean smoothness' 'mean compactness' 'mean concavity'\n",
      " 'mean concave points' 'mean symmetry' 'mean fractal dimension'\n",
      " 'radius error' 'texture error' 'perimeter error' 'area error'\n",
      " 'smoothness error' 'compactness error' 'concavity error'\n",
      " 'concave points error' 'symmetry error' 'fractal dimension error'\n",
      " 'worst radius' 'worst texture' 'worst perimeter' 'worst area'\n",
      " 'worst smoothness' 'worst compactness' 'worst concavity'\n",
      " 'worst concave points' 'worst symmetry' 'worst fractal dimension']\n"
     ]
    }
   ],
   "source": [
    "print(breast_cancer_data.data[0])\n",
    "print(breast_cancer_data.feature_names)"
   ]
  },
  {
   "cell_type": "code",
   "execution_count": 4,
   "id": "24f0700e",
   "metadata": {},
   "outputs": [
    {
     "name": "stdout",
     "output_type": "stream",
     "text": [
      "[0 0 0 0 0 0 0 0 0 0 0 0 0 0 0 0 0 0 0 1 1 1 0 0 0 0 0 0 0 0 0 0 0 0 0 0 0\n",
      " 1 0 0 0 0 0 0 0 0 1 0 1 1 1 1 1 0 0 1 0 0 1 1 1 1 0 1 0 0 1 1 1 1 0 1 0 0\n",
      " 1 0 1 0 0 1 1 1 0 0 1 0 0 0 1 1 1 0 1 1 0 0 1 1 1 0 0 1 1 1 1 0 1 1 0 1 1\n",
      " 1 1 1 1 1 1 0 0 0 1 0 0 1 1 1 0 0 1 0 1 0 0 1 0 0 1 1 0 1 1 0 1 1 1 1 0 1\n",
      " 1 1 1 1 1 1 1 1 0 1 1 1 1 0 0 1 0 1 1 0 0 1 1 0 0 1 1 1 1 0 1 1 0 0 0 1 0\n",
      " 1 0 1 1 1 0 1 1 0 0 1 0 0 0 0 1 0 0 0 1 0 1 0 1 1 0 1 0 0 0 0 1 1 0 0 1 1\n",
      " 1 0 1 1 1 1 1 0 0 1 1 0 1 1 0 0 1 0 1 1 1 1 0 1 1 1 1 1 0 1 0 0 0 0 0 0 0\n",
      " 0 0 0 0 0 0 0 1 1 1 1 1 1 0 1 0 1 1 0 1 1 0 1 0 0 1 1 1 1 1 1 1 1 1 1 1 1\n",
      " 1 0 1 1 0 1 0 1 1 1 1 1 1 1 1 1 1 1 1 1 1 0 1 1 1 0 1 0 1 1 1 1 0 0 0 1 1\n",
      " 1 1 0 1 0 1 0 1 1 1 0 1 1 1 1 1 1 1 0 0 0 1 1 1 1 1 1 1 1 1 1 1 0 0 1 0 0\n",
      " 0 1 0 0 1 1 1 1 1 0 1 1 1 1 1 0 1 1 1 0 1 1 0 0 1 1 1 1 1 1 0 1 1 1 1 1 1\n",
      " 1 0 1 1 1 1 1 0 1 1 0 1 1 1 1 1 1 1 1 1 1 1 1 0 1 0 0 1 0 1 1 1 1 1 0 1 1\n",
      " 0 1 0 1 1 0 1 0 1 1 1 1 1 1 1 1 0 0 1 1 1 1 1 1 0 1 1 1 1 1 1 1 1 1 1 0 1\n",
      " 1 1 1 1 1 1 0 1 0 1 1 0 1 1 1 1 1 0 0 1 0 1 0 1 1 1 1 1 0 1 1 0 1 0 1 0 0\n",
      " 1 1 1 0 1 1 1 1 1 1 1 1 1 1 1 0 1 0 0 1 1 1 1 1 1 1 1 1 1 1 1 1 1 1 1 1 1\n",
      " 1 1 1 1 1 1 1 0 0 0 0 0 0 1]\n"
     ]
    },
    {
     "data": {
      "text/plain": [
       "array(['malignant', 'benign'], dtype='<U9')"
      ]
     },
     "execution_count": 4,
     "metadata": {},
     "output_type": "execute_result"
    }
   ],
   "source": [
    "# Get the target data and names\n",
    "print(breast_cancer_data.target)\n",
    "breast_cancer_data.target_names"
   ]
  },
  {
   "cell_type": "code",
   "execution_count": 5,
   "id": "df87801f",
   "metadata": {},
   "outputs": [],
   "source": [
    "# Training and validation data\n",
    "training_data, validation_data, training_labels, validation_labels = train_test_split(breast_cancer_data.data, breast_cancer_data.target, test_size=0.2, random_state=100)"
   ]
  },
  {
   "cell_type": "code",
   "execution_count": 6,
   "id": "46b6904b",
   "metadata": {},
   "outputs": [
    {
     "name": "stdout",
     "output_type": "stream",
     "text": [
      "455\n",
      "455\n"
     ]
    }
   ],
   "source": [
    "# To confirm it worked\n",
    "print(len(training_data))\n",
    "print(len(training_labels))"
   ]
  },
  {
   "cell_type": "code",
   "execution_count": 7,
   "id": "2b775d27",
   "metadata": {},
   "outputs": [
    {
     "name": "stdout",
     "output_type": "stream",
     "text": [
      "K = 1 : 0.9298245614035088\n",
      "K = 2 : 0.9385964912280702\n",
      "K = 3 : 0.9473684210526315\n",
      "K = 4 : 0.9473684210526315\n",
      "K = 5 : 0.9473684210526315\n",
      "K = 6 : 0.9473684210526315\n",
      "K = 7 : 0.9473684210526315\n",
      "K = 8 : 0.9473684210526315\n",
      "K = 9 : 0.956140350877193\n",
      "K = 10 : 0.956140350877193\n",
      "K = 11 : 0.956140350877193\n",
      "K = 12 : 0.956140350877193\n",
      "K = 13 : 0.956140350877193\n",
      "K = 14 : 0.956140350877193\n",
      "K = 15 : 0.956140350877193\n",
      "K = 16 : 0.956140350877193\n",
      "K = 17 : 0.956140350877193\n",
      "K = 18 : 0.956140350877193\n",
      "K = 19 : 0.956140350877193\n",
      "K = 20 : 0.956140350877193\n",
      "K = 21 : 0.956140350877193\n",
      "K = 22 : 0.956140350877193\n",
      "K = 23 : 0.9649122807017544\n",
      "K = 24 : 0.9649122807017544\n",
      "K = 25 : 0.956140350877193\n",
      "K = 26 : 0.956140350877193\n",
      "K = 27 : 0.956140350877193\n",
      "K = 28 : 0.956140350877193\n",
      "K = 29 : 0.9473684210526315\n",
      "K = 30 : 0.9473684210526315\n",
      "K = 31 : 0.9473684210526315\n",
      "K = 32 : 0.9473684210526315\n",
      "K = 33 : 0.9473684210526315\n",
      "K = 34 : 0.9473684210526315\n",
      "K = 35 : 0.9473684210526315\n",
      "K = 36 : 0.9473684210526315\n",
      "K = 37 : 0.956140350877193\n",
      "K = 38 : 0.956140350877193\n",
      "K = 39 : 0.956140350877193\n",
      "K = 40 : 0.956140350877193\n",
      "K = 41 : 0.956140350877193\n",
      "K = 42 : 0.956140350877193\n",
      "K = 43 : 0.956140350877193\n",
      "K = 44 : 0.9473684210526315\n",
      "K = 45 : 0.956140350877193\n",
      "K = 46 : 0.9473684210526315\n",
      "K = 47 : 0.956140350877193\n",
      "K = 48 : 0.956140350877193\n",
      "K = 49 : 0.956140350877193\n",
      "K = 50 : 0.956140350877193\n",
      "K = 51 : 0.9473684210526315\n",
      "K = 52 : 0.9473684210526315\n",
      "K = 53 : 0.9473684210526315\n",
      "K = 54 : 0.956140350877193\n",
      "K = 55 : 0.956140350877193\n",
      "K = 56 : 0.9649122807017544\n",
      "K = 57 : 0.9473684210526315\n",
      "K = 58 : 0.9473684210526315\n",
      "K = 59 : 0.9385964912280702\n",
      "K = 60 : 0.9298245614035088\n",
      "K = 61 : 0.9298245614035088\n",
      "K = 62 : 0.9385964912280702\n",
      "K = 63 : 0.9473684210526315\n",
      "K = 64 : 0.9385964912280702\n",
      "K = 65 : 0.9385964912280702\n",
      "K = 66 : 0.9385964912280702\n",
      "K = 67 : 0.9385964912280702\n",
      "K = 68 : 0.9385964912280702\n",
      "K = 69 : 0.9385964912280702\n",
      "K = 70 : 0.9385964912280702\n",
      "K = 71 : 0.9385964912280702\n",
      "K = 72 : 0.9385964912280702\n",
      "K = 73 : 0.9385964912280702\n",
      "K = 74 : 0.9385964912280702\n",
      "K = 75 : 0.9385964912280702\n",
      "K = 76 : 0.9385964912280702\n",
      "K = 77 : 0.9298245614035088\n",
      "K = 78 : 0.9298245614035088\n",
      "K = 79 : 0.9298245614035088\n",
      "K = 80 : 0.9298245614035088\n",
      "K = 81 : 0.9210526315789473\n",
      "K = 82 : 0.9298245614035088\n",
      "K = 83 : 0.9210526315789473\n",
      "K = 84 : 0.9385964912280702\n",
      "K = 85 : 0.9298245614035088\n",
      "K = 86 : 0.9385964912280702\n",
      "K = 87 : 0.9385964912280702\n",
      "K = 88 : 0.9385964912280702\n",
      "K = 89 : 0.9298245614035088\n",
      "K = 90 : 0.9298245614035088\n",
      "K = 91 : 0.9210526315789473\n",
      "K = 92 : 0.9385964912280702\n",
      "K = 93 : 0.9210526315789473\n",
      "K = 94 : 0.9298245614035088\n",
      "K = 95 : 0.9298245614035088\n",
      "K = 96 : 0.9385964912280702\n",
      "K = 97 : 0.9298245614035088\n",
      "K = 98 : 0.9385964912280702\n",
      "K = 99 : 0.9298245614035088\n",
      "K = 100 : 0.9298245614035088\n"
     ]
    }
   ],
   "source": [
    "# Create a KNeighborsClassifier and test the accuracy\n",
    "# Iterate over values from 1 to 100 - for each 'k', a KNC is created and trained.\n",
    "for k in range(1, 101):\n",
    "    classifier = KNeighborsClassifier(n_neighbors=k)\n",
    "    classifier.fit(training_data, training_labels)\n",
    "    print(\"K =\", k, \":\", classifier.score(validation_data, validation_labels))"
   ]
  },
  {
   "cell_type": "code",
   "execution_count": 8,
   "id": "4097da2b",
   "metadata": {},
   "outputs": [],
   "source": [
    "k_list = []\n",
    "accuracies = []\n",
    "\n",
    "# Loop over values of k from 1 to 100 and create KNC for each k\n",
    "for k in range (1, 101):\n",
    "    classifier = KNeighborsClassifier(n_neighbors = k)\n",
    "    # Train it using fit and append k to k_list and the classifier's score to accuracies\n",
    "    classifier.fit(training_data, training_labels)\n",
    "    k_list.append(k)\n",
    "    accuracies.append(classifier.score(validation_data, validation_labels))"
   ]
  },
  {
   "cell_type": "code",
   "execution_count": null,
   "id": "489ba3ae",
   "metadata": {},
   "outputs": [],
   "source": [
    "\n",
    "plt.plot(k_list, accuracies)\n",
    "plt.xlabel(\"k\")\n",
    "plt.ylabel(\"Validation Accuracy\")\n",
    "plt.title(\"Breast Cancer Classifier Accuracy\")\n",
    "plt.show();"
   ]
  },
  {
   "cell_type": "code",
   "execution_count": null,
   "id": "b03edef3",
   "metadata": {},
   "outputs": [],
   "source": []
  },
  {
   "cell_type": "code",
   "execution_count": null,
   "id": "c042cce1",
   "metadata": {},
   "outputs": [],
   "source": []
  },
  {
   "cell_type": "code",
   "execution_count": null,
   "id": "88bf622e",
   "metadata": {},
   "outputs": [],
   "source": []
  }
 ],
 "metadata": {
  "kernelspec": {
   "display_name": "Python 3 (ipykernel)",
   "language": "python",
   "name": "python3"
  },
  "language_info": {
   "codemirror_mode": {
    "name": "ipython",
    "version": 3
   },
   "file_extension": ".py",
   "mimetype": "text/x-python",
   "name": "python",
   "nbconvert_exporter": "python",
   "pygments_lexer": "ipython3",
   "version": "3.10.13"
  }
 },
 "nbformat": 4,
 "nbformat_minor": 5
}
