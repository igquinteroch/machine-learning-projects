{
 "cells": [
  {
   "cell_type": "markdown",
   "metadata": {
    "id": "PZ-e_gK8dIqV"
   },
   "source": [
    "# Week 2 Activity\n",
    "\n",
    "## Course: Artificial Intelligence and Machine Learning\n",
    "\n",
    "* ### Ignacio Antonio Quintero Chávez.\n",
    "* ### A01794419"
   ]
  },
  {
   "cell_type": "markdown",
   "metadata": {
    "id": "fK-Lmp38ud_Z"
   },
   "source": [
    "**Important notes**\n",
    "\n",
    "* You can work with the document either on Google Colab on your local machine.\n",
    "* You should only work with the \"california_housing_train.csv\" file.\n",
    "* This activity only consists of 3 exercises, divided into 3 parts.\n",
    "* **You will only have to modify this file by adding your lines of code in the 3 parts indicated.**\n",
    "* **Any modification outside these areas will deduct points from the activity.**"
   ]
  },
  {
   "cell_type": "code",
   "execution_count": 2,
   "metadata": {
    "id": "q6iEu4qMuiqX"
   },
   "outputs": [],
   "source": [
    "import numpy as np\n",
    "import pandas as pd\n",
    "import matplotlib.pyplot as plt \n",
    "import seaborn as sns\n",
    "\n",
    "from sklearn.pipeline import Pipeline\n",
    "from sklearn.model_selection import KFold\n",
    "from sklearn.compose import ColumnTransformer\n",
    "from sklearn.preprocessing import power_transform\n",
    "from sklearn.preprocessing import FunctionTransformer\n",
    "\n",
    "from sklearn.impute import SimpleImputer\n",
    "from sklearn.preprocessing import MinMaxScaler  \n",
    "from sklearn.linear_model import LinearRegression"
   ]
  },
  {
   "cell_type": "code",
   "execution_count": 3,
   "metadata": {
    "id": "_wBCY35nukPF"
   },
   "outputs": [
    {
     "data": {
      "text/html": [
       "<div>\n",
       "<style scoped>\n",
       "    .dataframe tbody tr th:only-of-type {\n",
       "        vertical-align: middle;\n",
       "    }\n",
       "\n",
       "    .dataframe tbody tr th {\n",
       "        vertical-align: top;\n",
       "    }\n",
       "\n",
       "    .dataframe thead th {\n",
       "        text-align: right;\n",
       "    }\n",
       "</style>\n",
       "<table border=\"1\" class=\"dataframe\">\n",
       "  <thead>\n",
       "    <tr style=\"text-align: right;\">\n",
       "      <th></th>\n",
       "      <th>longitude</th>\n",
       "      <th>latitude</th>\n",
       "      <th>housing_median_age</th>\n",
       "      <th>total_rooms</th>\n",
       "      <th>total_bedrooms</th>\n",
       "      <th>population</th>\n",
       "      <th>households</th>\n",
       "      <th>median_income</th>\n",
       "      <th>median_house_value</th>\n",
       "    </tr>\n",
       "  </thead>\n",
       "  <tbody>\n",
       "    <tr>\n",
       "      <th>count</th>\n",
       "      <td>17000.000000</td>\n",
       "      <td>17000.000000</td>\n",
       "      <td>17000.000000</td>\n",
       "      <td>17000.000000</td>\n",
       "      <td>17000.000000</td>\n",
       "      <td>17000.000000</td>\n",
       "      <td>17000.000000</td>\n",
       "      <td>17000.000000</td>\n",
       "      <td>17000.000000</td>\n",
       "    </tr>\n",
       "    <tr>\n",
       "      <th>mean</th>\n",
       "      <td>-119.562108</td>\n",
       "      <td>35.625225</td>\n",
       "      <td>28.589353</td>\n",
       "      <td>2643.664412</td>\n",
       "      <td>539.410824</td>\n",
       "      <td>1429.573941</td>\n",
       "      <td>501.221941</td>\n",
       "      <td>3.883578</td>\n",
       "      <td>207300.912353</td>\n",
       "    </tr>\n",
       "    <tr>\n",
       "      <th>std</th>\n",
       "      <td>2.005166</td>\n",
       "      <td>2.137340</td>\n",
       "      <td>12.586937</td>\n",
       "      <td>2179.947071</td>\n",
       "      <td>421.499452</td>\n",
       "      <td>1147.852959</td>\n",
       "      <td>384.520841</td>\n",
       "      <td>1.908157</td>\n",
       "      <td>115983.764387</td>\n",
       "    </tr>\n",
       "    <tr>\n",
       "      <th>min</th>\n",
       "      <td>-124.350000</td>\n",
       "      <td>32.540000</td>\n",
       "      <td>1.000000</td>\n",
       "      <td>2.000000</td>\n",
       "      <td>1.000000</td>\n",
       "      <td>3.000000</td>\n",
       "      <td>1.000000</td>\n",
       "      <td>0.499900</td>\n",
       "      <td>14999.000000</td>\n",
       "    </tr>\n",
       "    <tr>\n",
       "      <th>25%</th>\n",
       "      <td>-121.790000</td>\n",
       "      <td>33.930000</td>\n",
       "      <td>18.000000</td>\n",
       "      <td>1462.000000</td>\n",
       "      <td>297.000000</td>\n",
       "      <td>790.000000</td>\n",
       "      <td>282.000000</td>\n",
       "      <td>2.566375</td>\n",
       "      <td>119400.000000</td>\n",
       "    </tr>\n",
       "    <tr>\n",
       "      <th>50%</th>\n",
       "      <td>-118.490000</td>\n",
       "      <td>34.250000</td>\n",
       "      <td>29.000000</td>\n",
       "      <td>2127.000000</td>\n",
       "      <td>434.000000</td>\n",
       "      <td>1167.000000</td>\n",
       "      <td>409.000000</td>\n",
       "      <td>3.544600</td>\n",
       "      <td>180400.000000</td>\n",
       "    </tr>\n",
       "    <tr>\n",
       "      <th>75%</th>\n",
       "      <td>-118.000000</td>\n",
       "      <td>37.720000</td>\n",
       "      <td>37.000000</td>\n",
       "      <td>3151.250000</td>\n",
       "      <td>648.250000</td>\n",
       "      <td>1721.000000</td>\n",
       "      <td>605.250000</td>\n",
       "      <td>4.767000</td>\n",
       "      <td>265000.000000</td>\n",
       "    </tr>\n",
       "    <tr>\n",
       "      <th>max</th>\n",
       "      <td>-114.310000</td>\n",
       "      <td>41.950000</td>\n",
       "      <td>52.000000</td>\n",
       "      <td>37937.000000</td>\n",
       "      <td>6445.000000</td>\n",
       "      <td>35682.000000</td>\n",
       "      <td>6082.000000</td>\n",
       "      <td>15.000100</td>\n",
       "      <td>500001.000000</td>\n",
       "    </tr>\n",
       "  </tbody>\n",
       "</table>\n",
       "</div>"
      ],
      "text/plain": [
       "          longitude      latitude  housing_median_age   total_rooms  \\\n",
       "count  17000.000000  17000.000000        17000.000000  17000.000000   \n",
       "mean    -119.562108     35.625225           28.589353   2643.664412   \n",
       "std        2.005166      2.137340           12.586937   2179.947071   \n",
       "min     -124.350000     32.540000            1.000000      2.000000   \n",
       "25%     -121.790000     33.930000           18.000000   1462.000000   \n",
       "50%     -118.490000     34.250000           29.000000   2127.000000   \n",
       "75%     -118.000000     37.720000           37.000000   3151.250000   \n",
       "max     -114.310000     41.950000           52.000000  37937.000000   \n",
       "\n",
       "       total_bedrooms    population    households  median_income  \\\n",
       "count    17000.000000  17000.000000  17000.000000   17000.000000   \n",
       "mean       539.410824   1429.573941    501.221941       3.883578   \n",
       "std        421.499452   1147.852959    384.520841       1.908157   \n",
       "min          1.000000      3.000000      1.000000       0.499900   \n",
       "25%        297.000000    790.000000    282.000000       2.566375   \n",
       "50%        434.000000   1167.000000    409.000000       3.544600   \n",
       "75%        648.250000   1721.000000    605.250000       4.767000   \n",
       "max       6445.000000  35682.000000   6082.000000      15.000100   \n",
       "\n",
       "       median_house_value  \n",
       "count        17000.000000  \n",
       "mean        207300.912353  \n",
       "std         115983.764387  \n",
       "min          14999.000000  \n",
       "25%         119400.000000  \n",
       "50%         180400.000000  \n",
       "75%         265000.000000  \n",
       "max         500001.000000  "
      ]
     },
     "execution_count": 3,
     "metadata": {},
     "output_type": "execute_result"
    }
   ],
   "source": [
    "# Create a dataframe with the california housing train file\n",
    "\n",
    "df = pd.read_csv(\"data/california_housing_train.csv\", sep=\",\")\n",
    "df.describe()"
   ]
  },
  {
   "cell_type": "markdown",
   "metadata": {
    "id": "gn3kKEGSI-rB"
   },
   "source": [
    "### Exercise 1: Pearson Correlation Matrix"
   ]
  },
  {
   "cell_type": "markdown",
   "metadata": {
    "id": "uJ6X6y9-5Up3"
   },
   "source": [
    "**Instructions:**\n",
    "\n",
    "In this exercise you must only display the correlation matrix of the variables of the \"df\" dataframe, including in each cell of the matrix the numerical value of the correlation between each pair of variables.\n",
    "\n",
    "When displaying the correlation matrix you must also use the heatmap option of the seaborn library, using the 'BuGn' color map.\n",
    "\n",
    "You can consult the following documentation:\n",
    "\n",
    "https://pandas.pydata.org/docs/reference/api/pandas.DataFrame.corr.html\n",
    "\n",
    "https://seaborn.pydata.org/generated/seaborn.heatmap.html\n",
    "\n",
    "https://matplotlib.org/stable/tutorials/colors/colormaps.html"
   ]
  },
  {
   "cell_type": "code",
   "execution_count": 7,
   "metadata": {
    "id": "ooYVR8x65Znv"
   },
   "outputs": [],
   "source": [
    "sns.set(rc={'figure.figsize':(9,6)}) \n",
    "\n",
    "#########################################################################\n",
    "# INICIA LA SECCIÓN PARA AGREGAR CÓDIGO.\n",
    "# Ejercicio 1\n",
    "# Sustituye \"None\" por tus líneas de código dentro de esta región.\n",
    "# Se esperan cuando mucho 2 líneas de código.\n",
    "\n",
    "None\n",
    "\n",
    "# TERMINA LA SECCIÓN PARA AGREGAR CÓDIGO.\n",
    "#########################################################################\n",
    "\n",
    "plt.show()"
   ]
  },
  {
   "cell_type": "markdown",
   "metadata": {
    "id": "4mzuVEV76Owg"
   },
   "source": [
    "### Exercise 2: Transformations and Histograms of variables"
   ]
  },
  {
   "cell_type": "markdown",
   "metadata": {
    "id": "r8tTbnfiHiY6"
   },
   "source": [
    "**Instructions:**\n",
    "\n",
    "In this exercise you should only work with the following 7 variables:\n",
    "\n",
    "* housing_median_age\n",
    "* total_rooms\n",
    "* total_bedrooms\n",
    "* population\n",
    "* households\n",
    "* median_income\n",
    "* median_house_value\n",
    "\n",
    "You should apply the following transformations to each of these columns and display their histograms with 20 bins:\n",
    "\n",
    "* Square root with Numpy.\n",
    "* Natural logarithm with Numpy.\n",
    "* Power 2 (i.e., squaring) with Numpy.\n",
    "* Box-Cox with scikit-learn."
   ]
  },
  {
   "cell_type": "code",
   "execution_count": null,
   "metadata": {
    "id": "nBj56LBaJEzL"
   },
   "outputs": [],
   "source": [
    "\n",
    "# Lista de los nombres de las 7 variables que trabajaremos en este ejercicio.\n",
    "variables_a_transformar = ['housing_median_age','total_rooms','total_bedrooms','population','households','median_income','median_house_value']\n",
    "\n",
    "\n",
    "sns.set(rc={'figure.figsize':(17,12)})\n",
    "fig, axes = plt.subplots(5, 7)    \n",
    "  \n",
    "for k in range(0,7):       \n",
    " \n",
    "    ################################################################################################################\n",
    "    # INICIA LA SECCIÓN PARA AGREGAR CÓDIGO.\n",
    "    # Ejercicio 2\n",
    "    # Solamente deberás escribir tu código en las partes que dicen \"None\", sustituyendo este por tu código.\n",
    "    # Deberás utilizar el dataframe \"misdatos\" con la lista que llamamos \"variables_a_transformar\" para \n",
    "    # seleccionar los valores de cada una de las 7 variables que se irán transformando y graficando.\n",
    "\n",
    "\n",
    "    # Datos originales ---------------------------------------------------------\n",
    "    plt.subplot(5,7,k+1) \n",
    "\n",
    "    Transf0 = None          #  En esta línea se debe asignar a Transf0 los valores de cada variable \"k\" sin transformar.\n",
    "    None                    #  En este línea agrega el comando para obtener el histograma de Transf0 con 20 barras (bins).\n",
    "\n",
    "\n",
    "    plt.xlabel(variables_a_transformar[k])\n",
    "    if k==0:\n",
    "      plt.ylabel('Originales')\n",
    "    \n",
    "\n",
    "\n",
    "    # Datos transformados con raíz cuadrada ------------------------------------\n",
    "    plt.subplot(5,7,k+8)    \n",
    "\n",
    "    Transf1 = None          #  En esta línea se debe aplicar la raíz cuadrada a los valores de cada variable \"k\" sin transformar.\n",
    "    None                    #  En este línea agrega el comando para obtener el histograma de Transf1 con 20 barras (bins).\n",
    "\n",
    "\n",
    "    plt.xlabel(variables_a_transformar[k])\n",
    "    if k==0:\n",
    "      plt.ylabel('Raíz Cuadrada')\n",
    "    \n",
    "\n",
    "    \n",
    "    # Datos transformados con logaritmo natural --------------------------------\n",
    "    plt.subplot(5,7,k+15)     \n",
    "\n",
    "    Transf2 = None          #  En esta línea se debe aplicar el logaritmo natural a los valores de cada variable \"k\" sin transformar.\n",
    "    None                    #  En este línea agrega el comando para obtener el histograma de Transf2 con 20 barras (bins).\n",
    "\n",
    "\n",
    "    plt.xlabel(variables_a_transformar[k])\n",
    "    if k==0:\n",
    "      plt.ylabel('Logaritmo')\n",
    "    \n",
    "\n",
    "\n",
    "    # Datos transformados con la potencia de 2 ---------------------------------\n",
    "    plt.subplot(5,7,k+22)\n",
    "\n",
    "    Transf3 = None          #  En esta línea debes elevar al cuadrado los valores de cada variable \"k\" sin transformar.\n",
    "    None                    #  En este línea agrega el comando para obtener el histograma de Transf3 con 20 barras (bins).\n",
    "\n",
    "\n",
    "    plt.xlabel(variables_a_transformar[k])\n",
    "    if k==0:\n",
    "      plt.ylabel('Potencia 2')\n",
    "    \n",
    "\n",
    "    # Datos transformados con Box-Cox ------------------------------------------\n",
    "    plt.subplot(5,7,k+29)\n",
    "\n",
    "    Transf4 = None          #  En esta línea se debe aplicar la transformación Box-Cox a los valores de cada variable \"k\" sin transformar.\n",
    "    None                    #  En este línea agrega el comando para obtener el histograma de Transf4 con 20 barras (bins).\n",
    "\n",
    "\n",
    "    plt.xlabel(variables_a_transformar[k])\n",
    "    if k==0:\n",
    "      plt.ylabel('Box-Cox')\n",
    "\n",
    "    # TERMINA LA SECCIÓN PARA AGREGAR CÓDIGO.\n",
    "    ################################################################################################################\n",
    "\n",
    "    \n",
    "\n",
    "plt.show()"
   ]
  },
  {
   "cell_type": "markdown",
   "metadata": {
    "id": "MWnC5yszs7VR"
   },
   "source": [
    "### Exercise 3: Performance metrics: $RMSE$, $MAE$, and $MAPE$"
   ]
  },
  {
   "cell_type": "markdown",
   "metadata": {
    "id": "NFtUgAfXMyVf"
   },
   "source": [
    "**Instructions:**\n",
    "\n",
    "Each of the metrics can be calculated using the actual observed values ​​$y$, the predicted values ​​$\\hat{y}$ and the total records $n$.\n",
    "\n",
    "In this exercise you will define each of these metrics using three functions that you will call my_RMSE, my_MAE and my_MAPE.\n",
    "\n",
    "Each of the three functions you define must have two arguments, namely the actual observed values ​​$y$ and the predicted values ​​$\\hat{y}$.\n",
    "\n",
    "The return value must be the actual numerical value given by the formula that defines it.\n",
    "\n",
    "You will only be able to use NumPy's mean, square, and abs functions, plus basic arithmetic operations.\n",
    "\n",
    "For the definition of each of them, at most 5 lines of code in total would be expected, but they may be less. An amount greater than this will be penalized."
   ]
  },
  {
   "cell_type": "code",
   "execution_count": null,
   "metadata": {
    "id": "cBNw_378l2Mk"
   },
   "outputs": [],
   "source": [
    "#########################################################################\n",
    "# INICIA LA SECCIÓN PARA AGREGAR CÓDIGO.\n",
    "# Ejercicio 3\n",
    "\n",
    "# Incluye aquí las líneas de código que definan a la función: mi_RMSE:\n",
    "None\n",
    "\n",
    "\n",
    "\n",
    "\n",
    "# Incluye aquí las líneas de código que definan a la función: mi_MAE:\n",
    "None \n",
    "\n",
    "\n",
    "\n",
    "\n",
    "# Incluye aquí las líneas de código que definan a la función: mi_MAPE:\n",
    "None\n",
    "\n",
    "\n",
    "\n",
    "\n",
    "# TERMINA LA SECCIÓN PARA AGREGAR CÓDIGO.\n",
    "#########################################################################"
   ]
  },
  {
   "cell_type": "code",
   "execution_count": null,
   "metadata": {
    "id": "oaUZ-1e3FjZi"
   },
   "outputs": [],
   "source": [
    "Xtrain = misdatos.drop('median_house_value', axis='columns')                                                                     \n",
    "ytrain = misdatos['median_house_value']  \n",
    "\n",
    "num_prepro_pipeline = Pipeline(steps = [('imputar', SimpleImputer(strategy='median')),  \n",
    "                                        ('scalar', MinMaxScaler(feature_range=(1, 2))),\n",
    "                                        ('sqrt', FunctionTransformer(np.sqrt))\n",
    "                                        ])     \n",
    "\n",
    "numerical_features = ['total_rooms','total_bedrooms','population','households','median_income']\n",
    "\n",
    "columnasTransformer = ColumnTransformer(transformers = [('numerical', num_prepro_pipeline, numerical_features)],\n",
    "                                        remainder='passthrough')\n",
    "\n",
    "modelo_LR = LinearRegression()\n",
    "\n",
    "scores_RMSEVal = []\n",
    "scores_MAEVal = []\n",
    "scores_MAPEVal = []\n",
    "\n",
    "kf = KFold(n_splits= 10, shuffle=True)   \n",
    "\n",
    "for train_index, val_index in kf.split(Xtrain):\n",
    "\n",
    "  X_train, X_val = Xtrain.loc[train_index], Xtrain.loc[val_index]\n",
    "  y_train, y_val = ytrain[train_index], ytrain[val_index]\n",
    "\n",
    "  XtrainFit = columnasTransformer.fit(X_train)   \n",
    "  XtrainTransf = XtrainFit.transform(X_train)    \n",
    "\n",
    "  modelo_LR = modelo_LR.fit(XtrainTransf, y_train) \n",
    "\n",
    "  XvalTransf = XtrainFit.transform(X_val) \n",
    "  yhatVal = modelo_LR.predict(XvalTransf)  \n",
    "\n",
    "  scores_RMSEVal.append(mi_RMSE(y_val, yhatVal))\n",
    "  scores_MAEVal.append(mi_MAE(y_val, yhatVal))\n",
    "  scores_MAPEVal.append(mi_MAPE(y_val, yhatVal))\n",
    "\n",
    "\n",
    "# Desplegar información:\n",
    "results = [scores_RMSEVal, scores_MAEVal, scores_MAPEVal]\n",
    "names = ['RMSEval','MAEval','MAPEval']\n",
    "\n",
    "print(\"\\t  %s\\t\\t%s   \\t\\t%s\" % (names[0],names[1],names[2]))\n",
    "for i,z in enumerate(zip(scores_RMSEVal, scores_MAEVal, scores_MAPEVal)):\n",
    "  print(\"fold[%d]:  %.1f \\t\\t%.1f  \\t\\t%.1f%%\" % (i+1,z[0],z[1],z[2]))\n",
    "print(\"mean(std) %.1f(%.1f)  \\t%.1f(%.1f)   \\t%.1f%% (%.1f)\" % (np.mean(scores_RMSEVal), np.std(scores_RMSEVal),\n",
    "                                                                np.mean(scores_MAEVal), np.std(scores_MAEVal),\n",
    "                                                                np.mean(scores_MAPEVal), np.std(scores_MAPEVal)))"
   ]
  },
  {
   "cell_type": "markdown",
   "metadata": {
    "id": "WZXu_qw4antB"
   },
   "source": [
    "**\\<\\<End of Activity 2>>**"
   ]
  }
 ],
 "metadata": {
  "colab": {
   "collapsed_sections": [
    "PZ-e_gK8dIqV",
    "gn3kKEGSI-rB",
    "4mzuVEV76Owg",
    "MWnC5yszs7VR"
   ],
   "name": "MNA_IAyAA_semana_2_Actividad.ipynb",
   "provenance": []
  },
  "kernelspec": {
   "display_name": "Python 3 (ipykernel)",
   "language": "python",
   "name": "python3"
  },
  "language_info": {
   "codemirror_mode": {
    "name": "ipython",
    "version": 3
   },
   "file_extension": ".py",
   "mimetype": "text/x-python",
   "name": "python",
   "nbconvert_exporter": "python",
   "pygments_lexer": "ipython3",
   "version": "3.10.13"
  }
 },
 "nbformat": 4,
 "nbformat_minor": 1
}
