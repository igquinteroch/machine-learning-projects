{
 "cells": [
  {
   "cell_type": "markdown",
   "id": "8e9964f9",
   "metadata": {},
   "source": [
    "# Transforming data into features"
   ]
  },
  {
   "cell_type": "markdown",
   "id": "69058902",
   "metadata": {},
   "source": [
    "**Objective:**  Transform some of the features to make the data more useful for analysis.\n",
    "\n",
    "* Transforming categorical data.\n",
    "* Scaling the data.\n",
    "* Work with date-time features."
   ]
  },
  {
   "cell_type": "code",
   "execution_count": 1,
   "id": "c03e2ed7",
   "metadata": {},
   "outputs": [],
   "source": [
    "import pandas as pd\n",
    "import numpy as np\n",
    "from sklearn.preprocessing import StandardScaler"
   ]
  },
  {
   "cell_type": "code",
   "execution_count": 2,
   "id": "cec95d48",
   "metadata": {},
   "outputs": [
    {
     "data": {
      "text/html": [
       "<div>\n",
       "<style scoped>\n",
       "    .dataframe tbody tr th:only-of-type {\n",
       "        vertical-align: middle;\n",
       "    }\n",
       "\n",
       "    .dataframe tbody tr th {\n",
       "        vertical-align: top;\n",
       "    }\n",
       "\n",
       "    .dataframe thead th {\n",
       "        text-align: right;\n",
       "    }\n",
       "</style>\n",
       "<table border=\"1\" class=\"dataframe\">\n",
       "  <thead>\n",
       "    <tr style=\"text-align: right;\">\n",
       "      <th></th>\n",
       "      <th>clothing_id</th>\n",
       "      <th>age</th>\n",
       "      <th>review_title</th>\n",
       "      <th>review_text</th>\n",
       "      <th>recommended</th>\n",
       "      <th>division_name</th>\n",
       "      <th>department_name</th>\n",
       "      <th>review_date</th>\n",
       "      <th>rating</th>\n",
       "    </tr>\n",
       "  </thead>\n",
       "  <tbody>\n",
       "    <tr>\n",
       "      <th>0</th>\n",
       "      <td>1095</td>\n",
       "      <td>39</td>\n",
       "      <td>Cute,looks like a dress on</td>\n",
       "      <td>If you are afraid of the jumpsuit trend but li...</td>\n",
       "      <td>True</td>\n",
       "      <td>General</td>\n",
       "      <td>Dresses</td>\n",
       "      <td>2019-07-08</td>\n",
       "      <td>Liked it</td>\n",
       "    </tr>\n",
       "    <tr>\n",
       "      <th>1</th>\n",
       "      <td>1095</td>\n",
       "      <td>28</td>\n",
       "      <td>So cute, great print!</td>\n",
       "      <td>I love fitted top dresses like this but i find...</td>\n",
       "      <td>True</td>\n",
       "      <td>General</td>\n",
       "      <td>Dresses</td>\n",
       "      <td>2019-05-17</td>\n",
       "      <td>Loved it</td>\n",
       "    </tr>\n",
       "    <tr>\n",
       "      <th>2</th>\n",
       "      <td>699</td>\n",
       "      <td>37</td>\n",
       "      <td>So flattering!</td>\n",
       "      <td>I love these cozy, fashionable leggings. they ...</td>\n",
       "      <td>True</td>\n",
       "      <td>Initmates</td>\n",
       "      <td>Intimate</td>\n",
       "      <td>2019-06-24</td>\n",
       "      <td>Loved it</td>\n",
       "    </tr>\n",
       "    <tr>\n",
       "      <th>3</th>\n",
       "      <td>1072</td>\n",
       "      <td>36</td>\n",
       "      <td>Effortless</td>\n",
       "      <td>Another reviewer said it best, \"i love the way...</td>\n",
       "      <td>True</td>\n",
       "      <td>General Petite</td>\n",
       "      <td>Dresses</td>\n",
       "      <td>2019-12-06</td>\n",
       "      <td>Loved it</td>\n",
       "    </tr>\n",
       "    <tr>\n",
       "      <th>4</th>\n",
       "      <td>1094</td>\n",
       "      <td>32</td>\n",
       "      <td>You need this!</td>\n",
       "      <td>Rompers are my fav so i'm biased writing this ...</td>\n",
       "      <td>True</td>\n",
       "      <td>General</td>\n",
       "      <td>Dresses</td>\n",
       "      <td>2019-10-04</td>\n",
       "      <td>Loved it</td>\n",
       "    </tr>\n",
       "  </tbody>\n",
       "</table>\n",
       "</div>"
      ],
      "text/plain": [
       "   clothing_id  age                review_title  \\\n",
       "0         1095   39  Cute,looks like a dress on   \n",
       "1         1095   28       So cute, great print!   \n",
       "2          699   37              So flattering!   \n",
       "3         1072   36                  Effortless   \n",
       "4         1094   32              You need this!   \n",
       "\n",
       "                                         review_text  recommended  \\\n",
       "0  If you are afraid of the jumpsuit trend but li...         True   \n",
       "1  I love fitted top dresses like this but i find...         True   \n",
       "2  I love these cozy, fashionable leggings. they ...         True   \n",
       "3  Another reviewer said it best, \"i love the way...         True   \n",
       "4  Rompers are my fav so i'm biased writing this ...         True   \n",
       "\n",
       "    division_name department_name review_date    rating  \n",
       "0         General         Dresses  2019-07-08  Liked it  \n",
       "1         General         Dresses  2019-05-17  Loved it  \n",
       "2       Initmates        Intimate  2019-06-24  Loved it  \n",
       "3  General Petite         Dresses  2019-12-06  Loved it  \n",
       "4         General         Dresses  2019-10-04  Loved it  "
      ]
     },
     "execution_count": 2,
     "metadata": {},
     "output_type": "execute_result"
    }
   ],
   "source": [
    "# Import the dataset\n",
    "reviews = pd.read_csv(\"transform-data-into-features/reviews.csv\")\n",
    "reviews.head()"
   ]
  },
  {
   "cell_type": "code",
   "execution_count": 3,
   "id": "4e553e19",
   "metadata": {},
   "outputs": [
    {
     "data": {
      "text/plain": [
       "Index(['clothing_id', 'age', 'review_title', 'review_text', 'recommended',\n",
       "       'division_name', 'department_name', 'review_date', 'rating'],\n",
       "      dtype='object')"
      ]
     },
     "execution_count": 3,
     "metadata": {},
     "output_type": "execute_result"
    }
   ],
   "source": [
    "# Review the columns names\n",
    "reviews.columns"
   ]
  },
  {
   "cell_type": "code",
   "execution_count": 4,
   "id": "778d635d",
   "metadata": {},
   "outputs": [
    {
     "name": "stdout",
     "output_type": "stream",
     "text": [
      "<class 'pandas.core.frame.DataFrame'>\n",
      "RangeIndex: 5000 entries, 0 to 4999\n",
      "Data columns (total 9 columns):\n",
      " #   Column           Non-Null Count  Dtype \n",
      "---  ------           --------------  ----- \n",
      " 0   clothing_id      5000 non-null   int64 \n",
      " 1   age              5000 non-null   int64 \n",
      " 2   review_title     4174 non-null   object\n",
      " 3   review_text      4804 non-null   object\n",
      " 4   recommended      5000 non-null   bool  \n",
      " 5   division_name    4996 non-null   object\n",
      " 6   department_name  4996 non-null   object\n",
      " 7   review_date      5000 non-null   object\n",
      " 8   rating           5000 non-null   object\n",
      "dtypes: bool(1), int64(2), object(6)\n",
      "memory usage: 317.5+ KB\n"
     ]
    }
   ],
   "source": [
    "# Review the features data types\n",
    "reviews.info()"
   ]
  },
  {
   "cell_type": "code",
   "execution_count": 5,
   "id": "560b6922",
   "metadata": {},
   "outputs": [
    {
     "data": {
      "text/plain": [
       "0        True\n",
       "1        True\n",
       "2        True\n",
       "3        True\n",
       "4        True\n",
       "        ...  \n",
       "4995     True\n",
       "4996    False\n",
       "4997     True\n",
       "4998     True\n",
       "4999     True\n",
       "Name: recommended, Length: 5000, dtype: bool"
      ]
     },
     "execution_count": 5,
     "metadata": {},
     "output_type": "execute_result"
    }
   ],
   "source": [
    "# Get the values for the recommended feature - ideally it should be transformed to numerical\n",
    "reviews[\"recommended\"]"
   ]
  },
  {
   "cell_type": "code",
   "execution_count": 6,
   "id": "87fa1cf1",
   "metadata": {},
   "outputs": [
    {
     "data": {
      "text/plain": [
       "0       1\n",
       "1       1\n",
       "2       1\n",
       "3       1\n",
       "4       1\n",
       "       ..\n",
       "4995    1\n",
       "4996    0\n",
       "4997    1\n",
       "4998    1\n",
       "4999    1\n",
       "Name: recommended, Length: 5000, dtype: int64"
      ]
     },
     "execution_count": 6,
     "metadata": {},
     "output_type": "execute_result"
    }
   ],
   "source": [
    "# Transform the recommended feature data type\n",
    "\n",
    "# Creating a binary dictionary\n",
    "binary_dict = {True:1, False: 0}\n",
    "# Use the binary dictionary to transform the column\n",
    "reviews[\"recommended\"] = reviews[\"recommended\"].map(binary_dict)\n",
    "reviews[\"recommended\"]"
   ]
  },
  {
   "cell_type": "code",
   "execution_count": 7,
   "id": "922435f7",
   "metadata": {},
   "outputs": [
    {
     "data": {
      "text/plain": [
       "0       Liked it\n",
       "1       Loved it\n",
       "2       Loved it\n",
       "3       Loved it\n",
       "4       Loved it\n",
       "          ...   \n",
       "4995    Loved it\n",
       "4996    Hated it\n",
       "4997    Loved it\n",
       "4998    Loved it\n",
       "4999    Loved it\n",
       "Name: rating, Length: 5000, dtype: object"
      ]
     },
     "execution_count": 7,
     "metadata": {},
     "output_type": "execute_result"
    }
   ],
   "source": [
    "# Get the values for the rating feature as well\n",
    "reviews[\"rating\"]"
   ]
  },
  {
   "cell_type": "code",
   "execution_count": 8,
   "id": "18c77aac",
   "metadata": {},
   "outputs": [
    {
     "data": {
      "text/plain": [
       "rating\n",
       "Loved it     2798\n",
       "Liked it     1141\n",
       "Was okay      564\n",
       "Not great     304\n",
       "Hated it      193\n",
       "Name: count, dtype: int64"
      ]
     },
     "execution_count": 8,
     "metadata": {},
     "output_type": "execute_result"
    }
   ],
   "source": [
    "reviews[\"rating\"].value_counts()"
   ]
  },
  {
   "cell_type": "code",
   "execution_count": 9,
   "id": "6fcb9fc0",
   "metadata": {},
   "outputs": [
    {
     "data": {
      "text/plain": [
       "0       4\n",
       "1       5\n",
       "2       5\n",
       "3       5\n",
       "4       5\n",
       "       ..\n",
       "4995    5\n",
       "4996    1\n",
       "4997    5\n",
       "4998    5\n",
       "4999    5\n",
       "Name: rating, Length: 5000, dtype: int64"
      ]
     },
     "execution_count": 9,
     "metadata": {},
     "output_type": "execute_result"
    }
   ],
   "source": [
    "# Transform the rating feature data type\n",
    "# loved it: 5, liked it: 4, was okay: 3, not great: 2, hated it: 1\n",
    "\n",
    "# Creating the dictionary\n",
    "rating_dict = {\"Loved it\":5, \"Liked it\":4, \"Was okay\":3, \"Not great\":2, \"Hated it\": 1}\n",
    "# Transform the column\n",
    "reviews[\"rating\"] = reviews[\"rating\"].map(rating_dict)\n",
    "reviews[\"rating\"]"
   ]
  },
  {
   "cell_type": "code",
   "execution_count": 10,
   "id": "e9f64c1c",
   "metadata": {},
   "outputs": [
    {
     "data": {
      "text/plain": [
       "department_name\n",
       "Tops        2196\n",
       "Dresses     1322\n",
       "Bottoms      848\n",
       "Intimate     378\n",
       "Jackets      224\n",
       "Trend         28\n",
       "Name: count, dtype: int64"
      ]
     },
     "execution_count": 10,
     "metadata": {},
     "output_type": "execute_result"
    }
   ],
   "source": [
    "# Get the values for the department_name feature\n",
    "\n",
    "reviews[\"department_name\"].value_counts()"
   ]
  },
  {
   "cell_type": "code",
   "execution_count": 11,
   "id": "a850d55d",
   "metadata": {},
   "outputs": [
    {
     "data": {
      "text/plain": [
       "Index(['clothing_id', 'age', 'review_title', 'review_text', 'recommended',\n",
       "       'division_name', 'department_name', 'review_date', 'rating', 'Bottoms',\n",
       "       'Dresses', 'Intimate', 'Jackets', 'Tops', 'Trend'],\n",
       "      dtype='object')"
      ]
     },
     "execution_count": 11,
     "metadata": {},
     "output_type": "execute_result"
    }
   ],
   "source": [
    "# Transform the feature data types using one-hot encode\n",
    "\n",
    "# Perform get_dummies\n",
    "ohe = pd.get_dummies(reviews[\"department_name\"])\n",
    "# Join the new columns onto the original\n",
    "reviews = reviews.join(ohe)\n",
    "reviews.columns"
   ]
  },
  {
   "cell_type": "code",
   "execution_count": 14,
   "id": "3ab3925b",
   "metadata": {},
   "outputs": [
    {
     "data": {
      "text/plain": [
       "0       2019-07-08\n",
       "1       2019-05-17\n",
       "2       2019-06-24\n",
       "3       2019-12-06\n",
       "4       2019-10-04\n",
       "           ...    \n",
       "4995    2019-05-26\n",
       "4996    2019-10-21\n",
       "4997    2019-10-18\n",
       "4998    2019-11-24\n",
       "4999    2019-10-31\n",
       "Name: review_date, Length: 5000, dtype: object"
      ]
     },
     "execution_count": 14,
     "metadata": {},
     "output_type": "execute_result"
    }
   ],
   "source": [
    "# Get the data for the reviews_date feature\n",
    "reviews[\"review_date\"]"
   ]
  },
  {
   "cell_type": "code",
   "execution_count": 18,
   "id": "b9e561b8",
   "metadata": {},
   "outputs": [
    {
     "data": {
      "text/plain": [
       "0      2019-07-08\n",
       "1      2019-05-17\n",
       "2      2019-06-24\n",
       "3      2019-12-06\n",
       "4      2019-10-04\n",
       "          ...    \n",
       "4995   2019-05-26\n",
       "4996   2019-10-21\n",
       "4997   2019-10-18\n",
       "4998   2019-11-24\n",
       "4999   2019-10-31\n",
       "Name: review_date, Length: 5000, dtype: datetime64[ns]"
      ]
     },
     "execution_count": 18,
     "metadata": {},
     "output_type": "execute_result"
    }
   ],
   "source": [
    "# Transform review_date to date-time data\n",
    "reviews[\"review_date\"] = pd.to_datetime(reviews[\"review_date\"])\n",
    "reviews[\"review_date\"]"
   ]
  },
  {
   "cell_type": "code",
   "execution_count": 20,
   "id": "395698d4",
   "metadata": {},
   "outputs": [],
   "source": [
    "# Get numerical columns\n",
    "reviews = reviews[['clothing_id', 'age', 'recommended', 'rating', 'Bottoms', 'Dresses', 'Intimate', 'Jackets', 'Tops', 'Trend']].copy()\n",
    "# Reset index\n",
    "reviews = reviews.set_index(reviews[\"clothing_id\"])"
   ]
  },
  {
   "cell_type": "code",
   "execution_count": 21,
   "id": "47ef5391",
   "metadata": {},
   "outputs": [
    {
     "data": {
      "text/plain": [
       "array([[ 0.85669131, -0.34814459,  0.44742824, ..., -0.21656679,\n",
       "        -0.88496718, -0.07504356],\n",
       "       [ 0.85669131, -1.24475223,  0.44742824, ..., -0.21656679,\n",
       "        -0.88496718, -0.07504356],\n",
       "       [-1.06545809, -0.51116416,  0.44742824, ..., -0.21656679,\n",
       "        -0.88496718, -0.07504356],\n",
       "       ...,\n",
       "       [ 0.81300609, -0.59267395,  0.44742824, ..., -0.21656679,\n",
       "        -0.88496718, -0.07504356],\n",
       "       [ 0.55574873, -1.24475223,  0.44742824, ..., -0.21656679,\n",
       "        -0.88496718, -0.07504356],\n",
       "       [-0.33251728,  1.68960003,  0.44742824, ..., -0.21656679,\n",
       "         1.12998541, -0.07504356]])"
      ]
     },
     "execution_count": 21,
     "metadata": {},
     "output_type": "execute_result"
    }
   ],
   "source": [
    "# Instantiate Standard Scaler\n",
    "scaler = StandardScaler()\n",
    "# Fit transform data\n",
    "scaler.fit_transform(reviews)"
   ]
  },
  {
   "cell_type": "code",
   "execution_count": null,
   "id": "f9a908c2",
   "metadata": {},
   "outputs": [],
   "source": []
  }
 ],
 "metadata": {
  "kernelspec": {
   "display_name": "Python 3 (ipykernel)",
   "language": "python",
   "name": "python3"
  },
  "language_info": {
   "codemirror_mode": {
    "name": "ipython",
    "version": 3
   },
   "file_extension": ".py",
   "mimetype": "text/x-python",
   "name": "python",
   "nbconvert_exporter": "python",
   "pygments_lexer": "ipython3",
   "version": "3.10.13"
  }
 },
 "nbformat": 4,
 "nbformat_minor": 5
}
